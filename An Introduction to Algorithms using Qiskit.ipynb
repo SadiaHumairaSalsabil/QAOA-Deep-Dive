{
 "cells": [
  {
   "cell_type": "code",
   "execution_count": null,
   "id": "86e0cd2f",
   "metadata": {},
   "outputs": [],
   "source": [
    "from qiskit.circuit.library import TwoLocal #initial/trial wave-function"
   ]
  },
  {
   "cell_type": "code",
   "execution_count": null,
   "id": "7657c229",
   "metadata": {},
   "outputs": [
    {
     "data": {
      "text/html": [
       "<pre style=\"word-wrap: normal;white-space: pre;background: #fff0;line-height: 1.1;font-family: &quot;Courier New&quot;,Courier,monospace\">     ┌──────────┐   ┌──────────┐   ┌──────────┐   ┌──────────┐\n",
       "q_0: ┤ Ry(θ[0]) ├─■─┤ Ry(θ[2]) ├─■─┤ Ry(θ[4]) ├─■─┤ Ry(θ[6]) ├\n",
       "     ├──────────┤ │ ├──────────┤ │ ├──────────┤ │ ├──────────┤\n",
       "q_1: ┤ Ry(θ[1]) ├─■─┤ Ry(θ[3]) ├─■─┤ Ry(θ[5]) ├─■─┤ Ry(θ[7]) ├\n",
       "     └──────────┘   └──────────┘   └──────────┘   └──────────┘</pre>"
      ],
      "text/plain": [
       "     ┌──────────┐   ┌──────────┐   ┌──────────┐   ┌──────────┐\n",
       "q_0: ┤ Ry(θ[0]) ├─■─┤ Ry(θ[2]) ├─■─┤ Ry(θ[4]) ├─■─┤ Ry(θ[6]) ├\n",
       "     ├──────────┤ │ ├──────────┤ │ ├──────────┤ │ ├──────────┤\n",
       "q_1: ┤ Ry(θ[1]) ├─■─┤ Ry(θ[3]) ├─■─┤ Ry(θ[5]) ├─■─┤ Ry(θ[7]) ├\n",
       "     └──────────┘   └──────────┘   └──────────┘   └──────────┘"
      ]
     },
     "execution_count": 5,
     "metadata": {},
     "output_type": "execute_result"
    }
   ],
   "source": [
    "#Creating ansatz using a initial wave function (TwoLocal) and parametrizing it.\n",
    "#inputs required for TwoLocal: number of qubits, ry and rc (why ey and rc??)\n",
    "\n",
    "num_of_qubits = 2\n",
    "ansatz = TwoLocal(num_of_qubits,\"ry\", \"cz\")\n",
    "\n",
    "#drawing the ansatz circuit  by first decomposing it\n",
    "ansatz.decompose().draw()"
   ]
  },
  {
   "cell_type": "code",
   "execution_count": null,
   "id": "588bf227",
   "metadata": {},
   "outputs": [
    {
     "data": {
      "image/png": "[encoded data removed]",
      "text/plain": [
       "<Figure size 705.35x200.667 with 1 Axes>"
      ]
     },
     "execution_count": 7,
     "metadata": {},
     "output_type": "execute_result"
    }
   ],
   "source": [
    "ansatz.decompose().draw('mpl')\n",
    "#All below gives the same graph:\n",
    "#ansatz.decompose().draw(\"mpl\")\n",
    "#ansatz.decompose().draw(output='mpl')\n",
    "#ansatz.decompose().draw(output=\"mpl\")\n"
   ]
  },
  {
   "cell_type": "code",
   "execution_count": 15,
   "id": "e2be9b7a",
   "metadata": {},
   "outputs": [
    {
     "data": {
      "text/html": [
       "<pre style=\"word-wrap: normal;white-space: pre;background: #fff0;line-height: 1.1;font-family: &quot;Courier New&quot;,Courier,monospace\">     ┌──────────┐      ┌──────────┐                  ┌──────────┐            »\n",
       "q_0: ┤ Ry(θ[0]) ├─■──■─┤ Ry(θ[3]) ├─────────────■──■─┤ Ry(θ[6]) ├────────────»\n",
       "     ├──────────┤ │  │ └──────────┘┌──────────┐ │  │ └──────────┘┌──────────┐»\n",
       "q_1: ┤ Ry(θ[1]) ├─■──┼──────■──────┤ Ry(θ[4]) ├─■──┼──────■──────┤ Ry(θ[7]) ├»\n",
       "     ├──────────┤    │      │      ├──────────┤    │      │      ├──────────┤»\n",
       "q_2: ┤ Ry(θ[2]) ├────■──────■──────┤ Ry(θ[5]) ├────■──────■──────┤ Ry(θ[8]) ├»\n",
       "     └──────────┘                  └──────────┘                  └──────────┘»\n",
       "«           ┌──────────┐             \n",
       "«q_0: ─■──■─┤ Ry(θ[9]) ├─────────────\n",
       "«      │  │ └──────────┘┌───────────┐\n",
       "«q_1: ─■──┼──────■──────┤ Ry(θ[10]) ├\n",
       "«         │      │      ├───────────┤\n",
       "«q_2: ────■──────■──────┤ Ry(θ[11]) ├\n",
       "«                       └───────────┘</pre>"
      ],
      "text/plain": [
       "     ┌──────────┐      ┌──────────┐                  ┌──────────┐            »\n",
       "q_0: ┤ Ry(θ[0]) ├─■──■─┤ Ry(θ[3]) ├─────────────■──■─┤ Ry(θ[6]) ├────────────»\n",
       "     ├──────────┤ │  │ └──────────┘┌──────────┐ │  │ └──────────┘┌──────────┐»\n",
       "q_1: ┤ Ry(θ[1]) ├─■──┼──────■──────┤ Ry(θ[4]) ├─■──┼──────■──────┤ Ry(θ[7]) ├»\n",
       "     ├──────────┤    │      │      ├──────────┤    │      │      ├──────────┤»\n",
       "q_2: ┤ Ry(θ[2]) ├────■──────■──────┤ Ry(θ[5]) ├────■──────■──────┤ Ry(θ[8]) ├»\n",
       "     └──────────┘                  └──────────┘                  └──────────┘»\n",
       "«           ┌──────────┐             \n",
       "«q_0: ─■──■─┤ Ry(θ[9]) ├─────────────\n",
       "«      │  │ └──────────┘┌───────────┐\n",
       "«q_1: ─■──┼──────■──────┤ Ry(θ[10]) ├\n",
       "«         │      │      ├───────────┤\n",
       "«q_2: ────■──────■──────┤ Ry(θ[11]) ├\n",
       "«                       └───────────┘"
      ]
     },
     "execution_count": 15,
     "metadata": {},
     "output_type": "execute_result"
    }
   ],
   "source": [
    "#Creating ansatz for number of qubits=3\n",
    "\n",
    "num_of_qubits = 3\n",
    "ansatz = TwoLocal(num_of_qubits,\"ry\", \"cz\")\n",
    "\n",
    "#drawing the ansatz circuit  by first decomposing it\n",
    "ansatz.decompose().draw()\n",
    "\n",
    "#Two circuits as in second one starts where first one ends"
   ]
  },
  {
   "cell_type": "code",
   "execution_count": 19,
   "id": "d56e3fe4",
   "metadata": {},
   "outputs": [],
   "source": [
    "from qiskit_algorithms.optimizers import SLSQP   #SLSQP: a classical optimizer\n",
    "\n",
    "#file location of qiskit algorithms: This PC -> Admin -> anaconda3 -> qiskit algorithms\n",
    "\n",
    "optimizer = SLSQP(maxiter=100) #maxiter: the max no. of iterations. (Note: not the maximal no. of function evaluations)"
   ]
  },
  {
   "cell_type": "markdown",
   "id": "23786431",
   "metadata": {},
   "source": [
    "Calling Estimator to evaluate expectation value. (Estimator is a primitive) <br>\n",
    "Primitive uses: to sample circuits or evaluate expectation values <br>\n",
    "Primitives can be based on a simlator or real hardware (can be used interchangably in the algorithm). For simulation, check Qiskit Aer. For real hardware, check Qiskit IBM runtime."
   ]
  },
  {
   "cell_type": "code",
   "execution_count": 23,
   "id": "71ad390c",
   "metadata": {},
   "outputs": [],
   "source": [
    "from qiskit.primitives import Estimator\n",
    "estimator = Estimator()\n"
   ]
  },
  {
   "cell_type": "code",
   "execution_count": null,
   "id": "8d20ffbf",
   "metadata": {},
   "outputs": [],
   "source": [
    "#estimator, ansatz and optimizer are required in VQE as input variables\n",
    "from qiskit_algorithms import VQE\n",
    "vqe = VQE(estimator,ansatz,optimizer)"
   ]
  }
 ],
 "metadata": {
  "kernelspec": {
   "display_name": "base",
   "language": "python",
   "name": "python3"
  },
  "language_info": {
   "codemirror_mode": {
    "name": "ipython",
    "version": 3
   },
   "file_extension": ".py",
   "mimetype": "text/x-python",
   "name": "python",
   "nbconvert_exporter": "python",
   "pygments_lexer": "ipython3",
   "version": "3.12.4"
  }
 },
 "nbformat": 4,
 "nbformat_minor": 5
}
