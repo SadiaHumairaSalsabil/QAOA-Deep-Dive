{
 "cells": [
  {
   "cell_type": "code",
   "execution_count": 27,
   "id": "86e0cd2f",
   "metadata": {},
   "outputs": [],
   "source": [
    "from qiskit.circuit.library import TwoLocal #initial/trial wave-function"
   ]
  },
  {
   "cell_type": "code",
   "execution_count": 28,
   "id": "7657c229",
   "metadata": {},
   "outputs": [
    {
     "data": {
      "text/html": [
       "<pre style=\"word-wrap: normal;white-space: pre;background: #fff0;line-height: 1.1;font-family: &quot;Courier New&quot;,Courier,monospace\">     ┌──────────┐      ┌──────────┐                  ┌──────────┐            »\n",
       "q_0: ┤ Ry(θ[0]) ├─■──■─┤ Ry(θ[3]) ├─────────────■──■─┤ Ry(θ[6]) ├────────────»\n",
       "     ├──────────┤ │  │ └──────────┘┌──────────┐ │  │ └──────────┘┌──────────┐»\n",
       "q_1: ┤ Ry(θ[1]) ├─■──┼──────■──────┤ Ry(θ[4]) ├─■──┼──────■──────┤ Ry(θ[7]) ├»\n",
       "     ├──────────┤    │      │      ├──────────┤    │      │      ├──────────┤»\n",
       "q_2: ┤ Ry(θ[2]) ├────■──────■──────┤ Ry(θ[5]) ├────■──────■──────┤ Ry(θ[8]) ├»\n",
       "     └──────────┘                  └──────────┘                  └──────────┘»\n",
       "«           ┌──────────┐             \n",
       "«q_0: ─■──■─┤ Ry(θ[9]) ├─────────────\n",
       "«      │  │ └──────────┘┌───────────┐\n",
       "«q_1: ─■──┼──────■──────┤ Ry(θ[10]) ├\n",
       "«         │      │      ├───────────┤\n",
       "«q_2: ────■──────■──────┤ Ry(θ[11]) ├\n",
       "«                       └───────────┘</pre>"
      ],
      "text/plain": [
       "     ┌──────────┐      ┌──────────┐                  ┌──────────┐            »\n",
       "q_0: ┤ Ry(θ[0]) ├─■──■─┤ Ry(θ[3]) ├─────────────■──■─┤ Ry(θ[6]) ├────────────»\n",
       "     ├──────────┤ │  │ └──────────┘┌──────────┐ │  │ └──────────┘┌──────────┐»\n",
       "q_1: ┤ Ry(θ[1]) ├─■──┼──────■──────┤ Ry(θ[4]) ├─■──┼──────■──────┤ Ry(θ[7]) ├»\n",
       "     ├──────────┤    │      │      ├──────────┤    │      │      ├──────────┤»\n",
       "q_2: ┤ Ry(θ[2]) ├────■──────■──────┤ Ry(θ[5]) ├────■──────■──────┤ Ry(θ[8]) ├»\n",
       "     └──────────┘                  └──────────┘                  └──────────┘»\n",
       "«           ┌──────────┐             \n",
       "«q_0: ─■──■─┤ Ry(θ[9]) ├─────────────\n",
       "«      │  │ └──────────┘┌───────────┐\n",
       "«q_1: ─■──┼──────■──────┤ Ry(θ[10]) ├\n",
       "«         │      │      ├───────────┤\n",
       "«q_2: ────■──────■──────┤ Ry(θ[11]) ├\n",
       "«                       └───────────┘"
      ]
     },
     "execution_count": 28,
     "metadata": {},
     "output_type": "execute_result"
    }
   ],
   "source": [
    "#Creating ansatz using a initial wave function (TwoLocal) and parametrizing it.\n",
    "#inputs required for TwoLocal: number of qubits, ry and rc (why ey and rc??)\n",
    "\n",
    "num_of_qubits = 3\n",
    "ansatz = TwoLocal(num_of_qubits,\"ry\", \"cz\")\n",
    "\n",
    "#drawing the ansatz circuit  by first decomposing it\n",
    "ansatz.decompose().draw()\n",
    "\n",
    "#Two circuits as in second one starts where first one ends\n",
    "#Here θ[0],  θ[1],...  θ[11] are the parameters to be varied."
   ]
  },
  {
   "cell_type": "code",
   "execution_count": 29,
   "id": "588bf227",
   "metadata": {},
   "outputs": [
    {
     "data": {
      "image/png": "[encoded data removed]",
      "text/plain": [
       "<Figure size 1207.22x284.278 with 1 Axes>"
      ]
     },
     "execution_count": 29,
     "metadata": {},
     "output_type": "execute_result"
    }
   ],
   "source": [
    "ansatz.decompose().draw('mpl')\n",
    "#All below gives the same graph:\n",
    "#ansatz.decompose().draw(\"mpl\")\n",
    "#ansatz.decompose().draw(output='mpl')\n",
    "#ansatz.decompose().draw(output=\"mpl\")\n"
   ]
  },
  {
   "cell_type": "code",
   "execution_count": 30,
   "id": "e2be9b7a",
   "metadata": {},
   "outputs": [
    {
     "data": {
      "text/html": [
       "<pre style=\"word-wrap: normal;white-space: pre;background: #fff0;line-height: 1.1;font-family: &quot;Courier New&quot;,Courier,monospace\">     ┌──────────┐   ┌──────────┐   ┌──────────┐   ┌──────────┐\n",
       "q_0: ┤ Ry(θ[0]) ├─■─┤ Ry(θ[2]) ├─■─┤ Ry(θ[4]) ├─■─┤ Ry(θ[6]) ├\n",
       "     ├──────────┤ │ ├──────────┤ │ ├──────────┤ │ ├──────────┤\n",
       "q_1: ┤ Ry(θ[1]) ├─■─┤ Ry(θ[3]) ├─■─┤ Ry(θ[5]) ├─■─┤ Ry(θ[7]) ├\n",
       "     └──────────┘   └──────────┘   └──────────┘   └──────────┘</pre>"
      ],
      "text/plain": [
       "     ┌──────────┐   ┌──────────┐   ┌──────────┐   ┌──────────┐\n",
       "q_0: ┤ Ry(θ[0]) ├─■─┤ Ry(θ[2]) ├─■─┤ Ry(θ[4]) ├─■─┤ Ry(θ[6]) ├\n",
       "     ├──────────┤ │ ├──────────┤ │ ├──────────┤ │ ├──────────┤\n",
       "q_1: ┤ Ry(θ[1]) ├─■─┤ Ry(θ[3]) ├─■─┤ Ry(θ[5]) ├─■─┤ Ry(θ[7]) ├\n",
       "     └──────────┘   └──────────┘   └──────────┘   └──────────┘"
      ]
     },
     "execution_count": 30,
     "metadata": {},
     "output_type": "execute_result"
    }
   ],
   "source": [
    "#Creating ansatz for number of qubits=2\n",
    "\n",
    "num_of_qubits = 2\n",
    "ansatz = TwoLocal(num_of_qubits,\"ry\", \"cz\")\n",
    "\n",
    "#drawing the ansatz circuit  by first decomposing it\n",
    "ansatz.decompose().draw()\n",
    "\n",
    "#Here θ[0],  θ[1],...  θ[7] are the parameters to be varied."
   ]
  },
  {
   "cell_type": "code",
   "execution_count": 31,
   "id": "d56e3fe4",
   "metadata": {},
   "outputs": [],
   "source": [
    "from qiskit_algorithms.optimizers import SLSQP   #SLSQP: a classical optimizer\n",
    "\n",
    "#file location of qiskit algorithms: This PC -> Admin -> anaconda3 -> qiskit algorithms\n",
    "\n",
    "optimizer = SLSQP(maxiter=100) #maxiter: the max no. of iterations. (Note: not the maximal no. of function evaluations)"
   ]
  },
  {
   "cell_type": "markdown",
   "id": "23786431",
   "metadata": {},
   "source": [
    "Calling Estimator to evaluate expectation value. (Estimator is a primitive) <br>\n",
    "Primitive uses: to sample circuits or evaluate expectation values <br>\n",
    "Primitives can be based on a simlator or real hardware (can be used interchangably in the algorithm). For simulation, check Qiskit Aer. For real hardware, check Qiskit IBM runtime."
   ]
  },
  {
   "cell_type": "code",
   "execution_count": 32,
   "id": "71ad390c",
   "metadata": {},
   "outputs": [],
   "source": [
    "from qiskit.primitives import Estimator\n",
    "estimator = Estimator()\n"
   ]
  },
  {
   "cell_type": "code",
   "execution_count": 33,
   "id": "8d20ffbf",
   "metadata": {},
   "outputs": [],
   "source": [
    "#estimator, ansatz and optimizer are required in VQE as input variables\n",
    "from qiskit_algorithms import VQE\n",
    "vqe = VQE(estimator,ansatz,optimizer)"
   ]
  },
  {
   "cell_type": "markdown",
   "id": "e4aeba72",
   "metadata": {},
   "source": [
    "Part 2: A complete working example"
   ]
  },
  {
   "cell_type": "code",
   "execution_count": 34,
   "id": "f7ed4ff2",
   "metadata": {},
   "outputs": [],
   "source": [
    "#Q. Finding the minimum energy state of a H2 molecule\n",
    "\n",
    "#There is a method of VQE called compute_minimum_eigenvalue. As input of this method we will place the Hamiltonian (as we need to find its minimum value). "
   ]
  },
  {
   "cell_type": "code",
   "execution_count": 35,
   "id": "f94a4254",
   "metadata": {},
   "outputs": [],
   "source": [
    "#Defining the Hamiltonian of H2 model w.r.t. Pauli Operators, for 0.735 H-H interatomic distance.\n",
    "\n",
    "#importing Pauli Operators\n",
    "from qiskit.quantum_info import SparsePauliOp \n",
    "\n",
    "#from_list method of SparsePauliOp where the contribution of each 2-qubit Pauli operator are given as inputs (according to H-H).\n",
    "H2_op = SparsePauliOp.from_list(\n",
    "  [ \n",
    "      (\"II\",-1.5),\n",
    "      (\"IZ\", 0.39),\n",
    "      (\"ZI\", -0.39),\n",
    "      (\"ZZ\", -0.01),\n",
    "      (\"XX\", 0.18),\n",
    "  ]\n",
    ")"
   ]
  },
  {
   "cell_type": "code",
   "execution_count": 36,
   "id": "431912e0",
   "metadata": {},
   "outputs": [
    {
     "name": "stdout",
     "output_type": "stream",
     "text": [
      "{   'aux_operators_evaluated': None,\n",
      "    'cost_function_evals': 85,\n",
      "    'eigenvalue': -2.2904998026204892,\n",
      "    'optimal_circuit': <qiskit.circuit.library.n_local.two_local.TwoLocal object at 0x000001F8CD969F70>,\n",
      "    'optimal_parameters': {   ParameterVectorElement(θ[5]): 5.433055324394725,\n",
      "                              ParameterVectorElement(θ[6]): 1.3806943126193216,\n",
      "                              ParameterVectorElement(θ[1]): -5.586969309702209,\n",
      "                              ParameterVectorElement(θ[0]): -4.169519828473748,\n",
      "                              ParameterVectorElement(θ[4]): 5.300445469527931,\n",
      "                              ParameterVectorElement(θ[2]): -1.651850351865246,\n",
      "                              ParameterVectorElement(θ[7]): 3.3157102804411753,\n",
      "                              ParameterVectorElement(θ[3]): -2.3416436091953527},\n",
      "    'optimal_point': array([-4.16951983, -5.58696931, -1.65185035, -2.34164361,  5.30044547,\n",
      "        5.43305532,  1.38069431,  3.31571028]),\n",
      "    'optimal_value': -2.2904998026204892,\n",
      "    'optimizer_evals': None,\n",
      "    'optimizer_result': <qiskit_algorithms.optimizers.optimizer.OptimizerResult object at 0x000001F8CD97C7A0>,\n",
      "    'optimizer_time': 1.124298095703125}\n"
     ]
    }
   ],
   "source": [
    "#Placing the H2 hamiltonian as input of the compute-minimum_eigenvalue method of VQE.\n",
    "result = vqe.compute_minimum_eigenvalue(H2_op)\n",
    "print(result)"
   ]
  },
  {
   "cell_type": "markdown",
   "id": "fc743cc5",
   "metadata": {},
   "source": [
    "{   'aux_operators_evaluated': None, <br>\n",
    "    'cost_function_evals': 85,  **number of cost function (=energy) evaluations the optimizer took until it found the minimum eigenvalue** <br>\n",
    "    'eigenvalue': -2.2904998026204892,   **minimum eigenvalue** <br>\n",
    "    'optimal_circuit': <qiskit.circuit.library.n_local.two_local.TwoLocal object at 0x000001F8CD969F70>, <br>\n",
    "    'optimal_parameters': {   ParameterVectorElement(θ[5]): 5.433055324394725, <br>\n",
    "                              ParameterVectorElement(θ[6]): 1.3806943126193216, <br>\n",
    "                              ParameterVectorElement(θ[1]): -5.586969309702209, <br>\n",
    "                              ParameterVectorElement(θ[0]): -4.169519828473748, <br>\n",
    "                              ParameterVectorElement(θ[4]): 5.300445469527931, <br>\n",
    "                              ParameterVectorElement(θ[2]): -1.651850351865246, <br>\n",
    "                              ParameterVectorElement(θ[7]): 3.3157102804411753, <br>\n",
    "                              ParameterVectorElement(θ[3]): -2.3416436091953527}, **optimal parameters values** <br>\n",
    "    'optimal_point': array([-4.16951983, -5.58696931, -1.65185035, -2.34164361,  5.30044547, <br>\n",
    "        5.43305532,  1.38069431,  3.31571028]),  **??????** <br>\n",
    "    'optimal_value': -2.2904998026204892,  **minimum eigenvalue** <br>\n",
    "    'optimizer_evals': None, <br>\n",
    "    'optimizer_result': <qiskit_algorithms.optimizers.optimizer.OptimizerResult object at 0x000001F8CD97C7A0>, <br>\n",
    "    'optimizer_time': 1.124298095703125}"
   ]
  },
  {
   "cell_type": "markdown",
   "id": "07993d9d",
   "metadata": {},
   "source": [
    "Updating the Primitive inside VQE"
   ]
  },
  {
   "cell_type": "code",
   "execution_count": 37,
   "id": "dcbb8fd6",
   "metadata": {},
   "outputs": [],
   "source": [
    "#changing to a shot-based estimator. For this, we are inseting no. of shots as input of estimator.\n",
    "vqe.estimator = Estimator(options={\"shots\":100})\n",
    "\n",
    "\n",
    "#We could also change to qiskit_aer.primitives.Estimator (Qiskit Aer simulator) or qiskit_ibm_runtime.Estimator (real hardware)"
   ]
  },
  {
   "cell_type": "code",
   "execution_count": 38,
   "id": "cdca2b58",
   "metadata": {},
   "outputs": [],
   "source": [
    "#updating to SPSA optimizer (typically works well for noisy loss functions)\n",
    "from qiskit_algorithms.optimizers import SPSA\n",
    "\n",
    "vqe.optimizer=SPSA(maxiter=100)"
   ]
  },
  {
   "cell_type": "code",
   "execution_count": 39,
   "id": "34b17219",
   "metadata": {},
   "outputs": [
    {
     "name": "stdout",
     "output_type": "stream",
     "text": [
      "{   'aux_operators_evaluated': None,\n",
      "    'cost_function_evals': 200,\n",
      "    'eigenvalue': -2.2879716717923437,\n",
      "    'optimal_circuit': <qiskit.circuit.library.n_local.two_local.TwoLocal object at 0x000001F8CD9F1CD0>,\n",
      "    'optimal_parameters': {   ParameterVectorElement(θ[5]): 2.073723650985999,\n",
      "                              ParameterVectorElement(θ[6]): -5.811541973967318,\n",
      "                              ParameterVectorElement(θ[1]): 2.9808288055947942,\n",
      "                              ParameterVectorElement(θ[0]): 3.4209059316258825,\n",
      "                              ParameterVectorElement(θ[4]): -2.3625203561170416,\n",
      "                              ParameterVectorElement(θ[2]): 3.014856993479685,\n",
      "                              ParameterVectorElement(θ[7]): 2.432961368513091,\n",
      "                              ParameterVectorElement(θ[3]): -2.7526243499352043},\n",
      "    'optimal_point': array([ 3.42090593,  2.98082881,  3.01485699, -2.75262435, -2.36252036,\n",
      "        2.07372365, -5.81154197,  2.43296137]),\n",
      "    'optimal_value': -2.2879716717923437,\n",
      "    'optimizer_evals': None,\n",
      "    'optimizer_result': <qiskit_algorithms.optimizers.optimizer.OptimizerResult object at 0x000001F8CC1B1A30>,\n",
      "    'optimizer_time': 3.193302631378174}\n"
     ]
    }
   ],
   "source": [
    "result = vqe.compute_minimum_eigenvalue(H2_op)  #its written in the tutorial \"result = vqe.compute_minimum_eigenvalue(output=H2_op)\" but \"output=\" is unnecessary.\n",
    "print(result)"
   ]
  },
  {
   "cell_type": "markdown",
   "id": "42e23e4b",
   "metadata": {},
   "source": [
    "Notice that the optimal value for shot-based and previous estimator gives very close results of -2.28797... & -2.29049..."
   ]
  }
 ],
 "metadata": {
  "kernelspec": {
   "display_name": "base",
   "language": "python",
   "name": "python3"
  },
  "language_info": {
   "codemirror_mode": {
    "name": "ipython",
    "version": 3
   },
   "file_extension": ".py",
   "mimetype": "text/x-python",
   "name": "python",
   "nbconvert_exporter": "python",
   "pygments_lexer": "ipython3",
   "version": "3.12.4"
  }
 },
 "nbformat": 4,
 "nbformat_minor": 5
}
