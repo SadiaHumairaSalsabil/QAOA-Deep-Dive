{
 "cells": [
  {
   "cell_type": "markdown",
   "id": "42c7313a",
   "metadata": {},
   "source": [
    "Ising Hamiltonian Operator for Graph Partition Problem:"
   ]
  },
  {
   "cell_type": "code",
   "execution_count": 1,
   "id": "b041e06f",
   "metadata": {},
   "outputs": [],
   "source": [
    "from qiskit.quantum_info import Pauli, SparsePauliOp\n",
    "import numpy as np\n",
    "\n",
    "def get_operator(weight_matrix):\n",
    "    num_nodes=len(weight_matrix)\n",
    "    pauli_list=[] #initializing emply list for hamiltonian terms of Paili operators\n",
    "    coeffs=[] #initializing empty list for hamiltonian term coefficients\n",
    "    shift=0 #initializing shift of Hamiltonian by constant\n",
    "\n",
    "    for i in range(num_nodes):\n",
    "        for j in range(i): #lower matrix elements\n",
    "            if weight_matrix[i,j] != 0: # if the lower diagonal matix element is not 0\n",
    "              x_p = np.zeros(num_nodes,dtype=bool) #initializing array with all false elements i.e., x_p = [False,False,...False]\n",
    "              z_p = np.zeros(num_nodes,dtype=bool) #initializing array with all false elements i.e., z_p = [False,False,...False]\n",
    "              z_p[i]= True #converting False (i.e. identity operator) to True (Z operator) for ith (row) element \n",
    "              z_p[j]= True #converting False (i.e. identity operator) to True (Z operator) for jth (column) element \n",
    "              #Note: for i=j, all elements are IIII since Z*Z=I\n",
    "              pauli_list.append(Pauli((z_p,x_p))) #Adding the operators to the pauli list\n",
    "              coeffs.append(-0.5) # -0.5 coefficients of ZZ operators in Hamiltonian A\n",
    "              shift += 0.5 # 0.5 constant in Hamiltonian A\n",
    "\n",
    "\n",
    "    for i in range(num_nodes):\n",
    "        for j in range(i): #lower matrix elements\n",
    "            if i != j:\n",
    "                x_p = np.zeros(num_nodes,dtype=bool) #initializing array with all false elements i.e., x_p = [False,False,...False]\n",
    "                z_p = np.zeros(num_nodes,dtype=bool) #initializing array with all false elements i.e., z_p = [False,False,...False]\n",
    "                z_p[i]= True\n",
    "                z_p[j]= True\n",
    "                pauli_list.append(Pauli((z_p,x_p)))\n",
    "                coeffs.append(1,0)\n",
    "            else:\n",
    "                shift += 1\n",
    "\n",
    "    return SparsePauliOp(pauli_list,coeffs=coeffs),shift"
   ]
  }
 ],
 "metadata": {
  "kernelspec": {
   "display_name": "base",
   "language": "python",
   "name": "python3"
  },
  "language_info": {
   "codemirror_mode": {
    "name": "ipython",
    "version": 3
   },
   "file_extension": ".py",
   "mimetype": "text/x-python",
   "name": "python",
   "nbconvert_exporter": "python",
   "pygments_lexer": "ipython3",
   "version": "3.12.4"
  }
 },
 "nbformat": 4,
 "nbformat_minor": 5
}
