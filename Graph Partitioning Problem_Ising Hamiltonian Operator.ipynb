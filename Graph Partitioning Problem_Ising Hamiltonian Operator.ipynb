{
 "cells": [
  {
   "cell_type": "markdown",
   "id": "42c7313a",
   "metadata": {},
   "source": [
    "Ising Hamiltonian Operator for Graph Partition Problem: <br>\n",
    "\n",
    "goal: Make sure the number of edges between the two sets is minimized <br>\n",
    "$H_A = \\sum_{(i,j)\\in E} {(0.5-0.5 Z_{i} Z_{j})}$ <br>\n",
    "\n",
    "goal: Separate the vertices into two set of the same size <br>\n",
    "$H_B = (\\sum_{i}{Z_{i}})^2 = \\sum_{i}{Z_{i}^2}+\\sum_{i!=j}{Z_{i} Z_{j}}$ "
   ]
  },
  {
   "cell_type": "code",
   "execution_count": 4,
   "id": "b041e06f",
   "metadata": {},
   "outputs": [],
   "source": [
    "from qiskit.quantum_info import Pauli, SparsePauliOp\n",
    "import numpy as np\n",
    "\n",
    "def get_operator(weight_matrix):\n",
    "    num_nodes=len(weight_matrix)\n",
    "    pauli_list=[] #initializing emply list for hamiltonian terms of Paili operators\n",
    "    coeffs=[] #initializing empty list for hamiltonian term coefficients\n",
    "    shift=0 #initializing shift of Hamiltonian by constant\n",
    "\n",
    "    for i in range(num_nodes):\n",
    "        for j in range(i): #lower matrix elements\n",
    "            if weight_matrix[i,j] != 0: # if the lower diagonal matix element is not 0\n",
    "              x_p = np.zeros(num_nodes,dtype=bool) #initializing array with all false elements i.e., x_p = [False,False,...False]\n",
    "              z_p = np.zeros(num_nodes,dtype=bool) #initializing array with all false elements i.e., z_p = [False,False,...False]\n",
    "              z_p[i]= True #converting False (i.e. identity operator) to True (Z operator) for ith (row) element \n",
    "              z_p[j]= True #converting False (i.e. identity operator) to True (Z operator) for jth (column) element \n",
    "              #Note: for i=j, all elements are IIII since Z_i*Z_i=I\n",
    "              pauli_list.append(Pauli((z_p,x_p))) #Inserting the operators to the pauli list to get sum of ZiZj\n",
    "              coeffs.append(-0.5) # -0.5 coefficients of Zi_Zj operators in Hamiltonian A\n",
    "              shift += 0.5 # 0.5 constant in Hamiltonian A\n",
    "\n",
    "\n",
    "    for i in range(num_nodes):\n",
    "        for j in range(i): #lower matrix elements\n",
    "            if i != j:\n",
    "                x_p = np.zeros(num_nodes,dtype=bool) #initializing array with all false elements i.e., x_p = [False,False,...False]\n",
    "                z_p = np.zeros(num_nodes,dtype=bool) #initializing array with all false elements i.e., z_p = [False,False,...False]\n",
    "                z_p[i]= True #converting False (i.e. identity operator) to True (Z operator) for ith (row) element\n",
    "                z_p[j]= True #converting False (i.e. identity operator) to True (Z operator) for jth (column) element \n",
    "                pauli_list.append(Pauli((z_p,x_p))) #Inserting the operators to the pauli list to get sum of Z_i Z_j\n",
    "                coeffs.append(1.0) # 1 coefficients of Z_i Z_j operators in Hamiltonian B\n",
    "                #Shouldn't here be a shift? shift += 1 #Zi^2=1\n",
    "            else:\n",
    "                shift += 1 #Zi^2=1\n",
    "\n",
    "    return SparsePauliOp(pauli_list,coeffs=coeffs),shift "
   ]
  }
 ],
 "metadata": {
  "kernelspec": {
   "display_name": "base",
   "language": "python",
   "name": "python3"
  },
  "language_info": {
   "codemirror_mode": {
    "name": "ipython",
    "version": 3
   },
   "file_extension": ".py",
   "mimetype": "text/x-python",
   "name": "python",
   "nbconvert_exporter": "python",
   "pygments_lexer": "ipython3",
   "version": "3.12.4"
  }
 },
 "nbformat": 4,
 "nbformat_minor": 5
}
