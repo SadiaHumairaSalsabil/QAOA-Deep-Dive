{
 "cells": [
  {
   "cell_type": "code",
   "execution_count": null,
   "id": "59354cf7",
   "metadata": {},
   "outputs": [],
   "source": [
    "from qiskit.primitives import Sampler\n",
    "from qiskit.quantum_info import Pauli\n",
    "from qiskit.result import QuasiDistribution\n",
    "from qiskit_algorithms import QAOA\n",
    "from qiskit_algorithms.optimizers import COBYLA\n",
    "from qiskit_algorithms.utils import algorithm_globals\n",
    "\n",
    "\n",
    "def sample_most_likely(state_vector):\n",
    "\n",
    "    #assigning values w.r.t data type of minimum eigenvalue's state vector\n",
    "    if isinstance(state_vector,QuasiDistribution): \n",
    "        values=list(state_vector.values()) #state vector is in the form of dictionary, with complex coeff. of states corresponting to states. Returns the complex coeff. of states of the dictionary of state_vector as a list\n",
    "    else: \n",
    "        values= state_vector #state vector is already in the form of list of complex coeff. of states\n",
    "\n",
    "\n",
    "    n=int(np.log2(len(values))) #len(values) is the number of combinations of states. log2(len(values)) is the num of nodes. int rounds up to te higher integer if no. of combinations<2^n \n",
    "    k=np.argmax(np.abs(values)) #argmax() to get the state with the highest sqrt of probability (note: highest prob. corresponds to highest sqrt of prob.). abs() is used to get the magnitude for each complex coeff. of states. \n",
    "    x=bitfield(k,n) #binary string of the state with the highest probability\n",
    "    x.reverse() #since qiskit uses little endian ordering i.e. rightmost qubit is the least insignificant bit, converting x to opposite ordering.\n",
    "\n",
    "    return np.array(x) #returns binary string to integer as x would be used as input when printing objective value.\n",
    "\n",
    "#Initializing QAOA\n",
    "sampler=Sampler() #assigning sampler\n",
    "optimizer=COBYLA() #assigning optimizer\n",
    "qaoa=QAOA(sampler,optimizer,reps=2) #reps: no. of layers of qaoa circuit\n",
    "algorithm_globals.random_seed=10598 #Random seed generator= use???\n",
    "\n",
    "result=qaoa.compute_minimum_eigenvalue(qubit_op)\n",
    "x=sample_most_likely(result.eigenstate)\n",
    "\n",
    "print(x)\n",
    "print(f\"Obbjective value computed by QAOA is {objective_value(x,w)}\")\n",
    "\n",
    "\n"
   ]
  }
 ],
 "metadata": {
  "kernelspec": {
   "display_name": "base",
   "language": "python",
   "name": "python3"
  },
  "language_info": {
   "codemirror_mode": {
    "name": "ipython",
    "version": 3
   },
   "file_extension": ".py",
   "mimetype": "text/x-python",
   "name": "python",
   "nbconvert_exporter": "python",
   "pygments_lexer": "ipython3",
   "version": "3.12.4"
  }
 },
 "nbformat": 4,
 "nbformat_minor": 5
}
