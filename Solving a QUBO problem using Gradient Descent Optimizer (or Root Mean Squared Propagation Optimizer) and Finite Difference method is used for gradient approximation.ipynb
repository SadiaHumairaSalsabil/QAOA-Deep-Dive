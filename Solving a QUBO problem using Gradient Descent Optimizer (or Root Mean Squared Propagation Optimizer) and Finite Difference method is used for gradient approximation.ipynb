{
 "cells": [
  {
   "cell_type": "markdown",
   "id": "57d981ba",
   "metadata": {},
   "source": [
    "import summary \n",
    "\n",
    "openqaoa -> QAOA\n",
    "openqaoa -> problems -> problem -> QUBO"
   ]
  },
  {
   "cell_type": "markdown",
   "id": "ac4b2835",
   "metadata": {},
   "source": [
    "Solving a QUBO problem using Gradient Descent Optimizer and Finite Difference method is used for gradient approximation "
   ]
  },
  {
   "cell_type": "code",
   "execution_count": 1,
   "id": "2c0c45c3",
   "metadata": {},
   "outputs": [],
   "source": [
    "from openqaoa import QAOA\n",
    "from openqaoa.problems import QUBO #__init__.py file contains from .problem import QUBO thats why we are directly writing openqaoa.problems import QUBO instead of openqaoa.problems.problem import QUBO\n",
    "\n",
    "#instantiating QAOA class\n",
    "q=QAOA()\n",
    "\n",
    "\n",
    "q.set_classical_optimizer(\n",
    "    method= 'vgd', #gradient descent optimizer\n",
    "    jac=\"finite_difference\" # finite difference method to approximate gradient\n",
    ") #returns desired classical optimizer through set_classical_optimizer function in QAOA class\n",
    "\n",
    "\n",
    "# Defining an arbritrary problem in QUBO form  1 x_0 + -1.5 x_1 + 0.8 x_2 - 0.3 x_3 +2.2 x_0 x_1 - 0.7 x_1 x_2 + 1.1 x_2 x_3 - 1.8 x_0 x_2\n",
    "n = 4  # number of variables\n",
    "terms = [(0,), (1,), (2,), (3,), (0, 1), (1, 2), (2, 3), (0, 2)]\n",
    "weights = [1.0, -1.5, 0.8, -0.3, 2.2, -0.7, 1.1, -1.8]\n",
    "problem = QUBO(n=n, terms=terms, weights=weights, clean_terms_and_weights=True)\n",
    "\n",
    "q.compile(problem) #converts problem in QUBO form to circuit ansatz thus initializing trainable varionational parameters\n",
    "result=q.optimize() #running classical optimization"
   ]
  },
  {
   "cell_type": "code",
   "execution_count": 2,
   "id": "ddae9c44",
   "metadata": {},
   "outputs": [
    {
     "name": "stdout",
     "output_type": "stream",
     "text": [
      "{'_QAOAResult__type_backend': <class 'openqaoa.backends.qaoa_vectorized.QAOAvectorizedBackendSimulator'>, 'method': 'vgd', 'cost_hamiltonian': <openqaoa.qaoa_components.ansatz_constructor.operators.Hamiltonian object at 0x00000111DEEACD30>, 'evals': {'number_of_evals': 67, 'jac_evals': 52, 'qfim_evals': 0}, 'intermediate': {'angles': [[0.35, 0.35], [0.35, 0.35], [0.352488466, 0.193196472], [0.375079653, 0.206227399], [0.387009371, 0.196602908], [0.394237837, 0.202231713], [0.397924893, 0.19799134], [0.400251717, 0.20062178], [0.401383697, 0.198684889], [0.402141182, 0.199927912999], [0.402484298999, 0.19903237], [0.402734194999, 0.199619713999], [0.402835815999, 0.199203313999], [0.402919684999, 0.199480332999], [0.402948587, 0.199286123999]], 'cost': [-1.551307856251, -1.551307856251, -2.976944866622, -3.018279807807, -3.031672001065, -3.036008550764, -3.037461244711, -3.037954621545, -3.038128998289, -3.038192240642, -3.038216237259, -3.038225644806, -3.038229491423, -3.038231110784, -3.038231813666], 'measurement_outcomes': [], 'job_id': ['7e54ba67-20d0-4a82-bbf3-4d4236ea6bfa', '06c31c1d-d405-418b-9249-8721593570c8', 'c763c8b7-929b-4631-8060-1261c87f2a90', 'b8e1fefb-6018-4dc0-83ab-b4efbc476565', '8839686e-7048-440d-afa7-c3037a18e962', '330162a2-7846-4acd-b543-eb7b7b0280bf', '7c4ff5b4-b357-4964-9d9b-16b8724ba9cb', '84af05e5-d9f7-4c50-89a6-3e70c6f64b80', 'a8433f7b-a798-484e-8698-dd72b58f1a11', '8611a22d-3062-4b48-b47a-c664621b6478', 'f4012f95-4c10-4443-b616-e90fdbcd50f3', 'f98d7618-ef35-461f-8719-6e232224a650', '8dba7ae8-742e-4af2-b086-ca10e52f6e45', '2816d693-cf98-4e23-b45f-2bb1aeea2ce3', '27f4ff76-8565-4dea-99e4-25445b5364b2']}, 'optimized': {'angles': [0.402948587, 0.199286123999], 'cost': -3.038231813666, 'measurement_outcomes': array([ 0.06889934+0.21643473j, -0.03583517+0.16550832j,\n",
      "        0.08303202+0.21005829j, -0.08858511-0.02504782j,\n",
      "       -0.0211021 +0.03689783j, -0.25754797+0.42470295j,\n",
      "        0.10922725+0.30905766j,  0.01166371+0.20761686j,\n",
      "        0.03951016+0.27065936j, -0.02988364+0.32104468j,\n",
      "        0.14264451+0.29096781j, -0.04719902-0.00749144j,\n",
      "       -0.06969857+0.00258424j, -0.13490763+0.3069448j ,\n",
      "        0.07058352+0.17605358j,  0.06889934+0.13023923j]), 'job_id': '27f4ff76-8565-4dea-99e4-25445b5364b2', 'eval_number': 15}, 'most_probable_states': {'solutions_bitstrings': ['1010'], 'bitstring_energy': -7.999999999999999}}\n"
     ]
    }
   ],
   "source": [
    "#printing all the results during __dict__\n",
    "print(q.result.__dict__)"
   ]
  },
  {
   "cell_type": "code",
   "execution_count": 3,
   "id": "60fc000b",
   "metadata": {},
   "outputs": [
    {
     "name": "stdout",
     "output_type": "stream",
     "text": [
      "{'solutions_bitstrings': ['1010'], 'bitstring_energy': -7.999999999999999}\n"
     ]
    }
   ],
   "source": [
    "#printing the most likely sample corresponding to the minimum energy eigenvalue\n",
    "print(q.result.most_probable_states)"
   ]
  },
  {
   "cell_type": "markdown",
   "id": "ab575d9d",
   "metadata": {},
   "source": [
    "Solving the same problem using Root Mean Squared Propagation"
   ]
  },
  {
   "cell_type": "code",
   "execution_count": 4,
   "id": "bb36ef33",
   "metadata": {},
   "outputs": [
    {
     "ename": "ValueError",
     "evalue": "Cannot change properties of the object after compilation.",
     "output_type": "error",
     "traceback": [
      "\u001b[1;31m---------------------------------------------------------------------------\u001b[0m",
      "\u001b[1;31mValueError\u001b[0m                                Traceback (most recent call last)",
      "Cell \u001b[1;32mIn[4], line 1\u001b[0m\n\u001b[1;32m----> 1\u001b[0m \u001b[43mq\u001b[49m\u001b[38;5;241;43m.\u001b[39;49m\u001b[43mset_classical_optimizer\u001b[49m\u001b[43m(\u001b[49m\n\u001b[0;32m      2\u001b[0m \u001b[43m    \u001b[49m\u001b[43mmethod\u001b[49m\u001b[38;5;241;43m=\u001b[39;49m\u001b[43m \u001b[49m\u001b[38;5;124;43m'\u001b[39;49m\u001b[38;5;124;43mrmsprop\u001b[39;49m\u001b[38;5;124;43m'\u001b[39;49m\u001b[43m,\u001b[49m\u001b[43m \u001b[49m\u001b[38;5;66;43;03m#gradient descent optimizer\u001b[39;49;00m\n\u001b[0;32m      3\u001b[0m \u001b[43m)\u001b[49m\n\u001b[0;32m      5\u001b[0m result\u001b[38;5;241m=\u001b[39mq\u001b[38;5;241m.\u001b[39moptimize()\n\u001b[0;32m      6\u001b[0m \u001b[38;5;28mprint\u001b[39m(q\u001b[38;5;241m.\u001b[39mresult\u001b[38;5;241m.\u001b[39mmost_probable_states)\n",
      "File \u001b[1;32mc:\\Users\\Admin\\anaconda3\\envs\\OpenQAOA2\\lib\\site-packages\\openqaoa\\algorithms\\baseworkflow.py:41\u001b[0m, in \u001b[0;36mcheck_compiled.<locals>.wrapper\u001b[1;34m(self, *args, **kwargs)\u001b[0m\n\u001b[0;32m     39\u001b[0m result \u001b[38;5;241m=\u001b[39m func(\u001b[38;5;28mself\u001b[39m, \u001b[38;5;241m*\u001b[39margs, \u001b[38;5;241m*\u001b[39m\u001b[38;5;241m*\u001b[39mkwargs)\n\u001b[0;32m     40\u001b[0m \u001b[38;5;28;01mif\u001b[39;00m \u001b[38;5;28mself\u001b[39m\u001b[38;5;241m.\u001b[39mcompiled:\n\u001b[1;32m---> 41\u001b[0m     \u001b[38;5;28;01mraise\u001b[39;00m \u001b[38;5;167;01mValueError\u001b[39;00m(\n\u001b[0;32m     42\u001b[0m         \u001b[38;5;124m\"\u001b[39m\u001b[38;5;124mCannot change properties of the object after compilation.\u001b[39m\u001b[38;5;124m\"\u001b[39m\n\u001b[0;32m     43\u001b[0m     )\n\u001b[0;32m     44\u001b[0m \u001b[38;5;28;01mreturn\u001b[39;00m result\n",
      "\u001b[1;31mValueError\u001b[0m: Cannot change properties of the object after compilation."
     ]
    }
   ],
   "source": [
    "q.set_classical_optimizer(\n",
    "    method= 'rmsprop', #gradient descent optimizer\n",
    ")\n",
    "\n",
    "result=q.optimize()\n",
    "print(q.result.most_probable_states)\n",
    "\n",
    "#here we face a problem Cannot change properties of the object after compilation so we have to compile again! (a new QAOA instanse is required)"
   ]
  },
  {
   "cell_type": "code",
   "execution_count": null,
   "id": "561f7f1a",
   "metadata": {},
   "outputs": [
    {
     "name": "stdout",
     "output_type": "stream",
     "text": [
      "{'solutions_bitstrings': ['1010'], 'bitstring_energy': -7.999999999999999}\n"
     ]
    }
   ],
   "source": [
    "#instantiating QAOA class again under q2 name\n",
    "q2=QAOA()\n",
    "\n",
    "q2.set_classical_optimizer(\n",
    "    method= 'rmsprop', #gradient descent optimizer\n",
    "    jac=\"finite_difference\"\n",
    ")\n",
    "\n",
    "q2.compile(problem)\n",
    "result=q2.optimize()\n",
    "print(q.result.most_probable_states)\n",
    "\n",
    "#We can see below we got the same solution using Root Mean Squared Propagation as well."
   ]
  }
 ],
 "metadata": {
  "kernelspec": {
   "display_name": "OpenQAOA2",
   "language": "python",
   "name": "python3"
  },
  "language_info": {
   "codemirror_mode": {
    "name": "ipython",
    "version": 3
   },
   "file_extension": ".py",
   "mimetype": "text/x-python",
   "name": "python",
   "nbconvert_exporter": "python",
   "pygments_lexer": "ipython3",
   "version": "3.10.16"
  }
 },
 "nbformat": 4,
 "nbformat_minor": 5
}
